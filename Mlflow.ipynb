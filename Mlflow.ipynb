{
 "cells": [
  {
   "cell_type": "code",
   "execution_count": 1,
   "id": "e03111d5-bb49-44e6-8b98-96aa94a6c795",
   "metadata": {},
   "outputs": [],
   "source": [
    "import mlflow"
   ]
  },
  {
   "cell_type": "code",
   "execution_count": 8,
   "id": "505b1f39-ec96-44f7-bb07-39a82510effa",
   "metadata": {},
   "outputs": [],
   "source": [
    "remote_server_uri = 'http://localhost:5000'\n",
    "mlflow.set_tracking_uri(remote_server_uri)"
   ]
  },
  {
   "cell_type": "code",
   "execution_count": 9,
   "id": "3fec065c-e429-49b9-970a-491d8329b565",
   "metadata": {},
   "outputs": [
    {
     "data": {
      "text/plain": [
       "'http://localhost:5000'"
      ]
     },
     "execution_count": 9,
     "metadata": {},
     "output_type": "execute_result"
    }
   ],
   "source": [
    "mlflow.tracking.get_tracking_uri()"
   ]
  },
  {
   "cell_type": "code",
   "execution_count": 10,
   "id": "7f80916f-d63b-4738-94c0-480f1f7bbf78",
   "metadata": {},
   "outputs": [],
   "source": [
    "exp_name = 'test_experiment'"
   ]
  },
  {
   "cell_type": "code",
   "execution_count": 11,
   "id": "0bf7cbcb-d9ef-4fe8-bdda-11d4fd0e6126",
   "metadata": {},
   "outputs": [
    {
     "name": "stderr",
     "output_type": "stream",
     "text": [
      "2024/12/31 08:57:43 INFO mlflow.tracking.fluent: Experiment with name 'test_experiment' does not exist. Creating a new experiment.\n"
     ]
    },
    {
     "data": {
      "text/plain": [
       "<Experiment: artifact_location='/home/ajay/MLflow/mlruns/450383643882950314', creation_time=1735635463713, experiment_id='450383643882950314', last_update_time=1735635463713, lifecycle_stage='active', name='test_experiment', tags={}>"
      ]
     },
     "execution_count": 11,
     "metadata": {},
     "output_type": "execute_result"
    }
   ],
   "source": [
    "mlflow.set_experiment(exp_name)"
   ]
  },
  {
   "cell_type": "code",
   "execution_count": null,
   "id": "70c2e642-ed01-4c47-b965-970fae14b98f",
   "metadata": {},
   "outputs": [],
   "source": []
  }
 ],
 "metadata": {
  "kernelspec": {
   "display_name": "Python 3 (ipykernel)",
   "language": "python",
   "name": "python3"
  },
  "language_info": {
   "codemirror_mode": {
    "name": "ipython",
    "version": 3
   },
   "file_extension": ".py",
   "mimetype": "text/x-python",
   "name": "python",
   "nbconvert_exporter": "python",
   "pygments_lexer": "ipython3",
   "version": "3.9.21"
  }
 },
 "nbformat": 4,
 "nbformat_minor": 5
}
